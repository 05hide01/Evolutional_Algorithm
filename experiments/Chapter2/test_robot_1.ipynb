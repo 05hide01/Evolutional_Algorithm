{
 "cells": [
  {
   "cell_type": "markdown",
   "metadata": {},
   "source": [
    "## ロボットの実験\n",
    "### create robot"
   ]
  },
  {
   "cell_type": "code",
   "execution_count": 11,
   "metadata": {},
   "outputs": [
    {
     "name": "stdout",
     "output_type": "stream",
     "text": [
      "['/home/hide0501/Evolutional_Algorithm/experiments/Chapter2',\n",
      " '/home/hide0501/anaconda3/envs/evogym/lib/python37.zip',\n",
      " '/home/hide0501/anaconda3/envs/evogym/lib/python3.7',\n",
      " '/home/hide0501/anaconda3/envs/evogym/lib/python3.7/lib-dynload',\n",
      " '',\n",
      " '/home/hide0501/anaconda3/envs/evogym/lib/python3.7/site-packages',\n",
      " '/home/hide0501/anaconda3/envs/evogym/lib/python3.7/site-packages/IPython/extensions',\n",
      " '/home/hide0501/.ipython',\n",
      " '/home/hide0501/anaconda3/envs/evogym',\n",
      " '/home/hide0501/anaconda3/envs/evogym',\n",
      " '/home/hide0501/anaconda3/envs/evogym',\n",
      " '/home/hide0501/anaconda3/envs/evogym',\n",
      " '/home/hide0501/anaconda3/envs/evogym',\n",
      " '/home/hide0501/anaconda3/envs/evogym']\n"
     ]
    },
    {
     "ename": "FileNotFoundError",
     "evalue": "[Errno 2] No such file or directory: 'cat.txt'",
     "output_type": "error",
     "traceback": [
      "\u001b[0;31m---------------------------------------------------------------------------\u001b[0m",
      "\u001b[0;31mFileNotFoundError\u001b[0m                         Traceback (most recent call last)",
      "\u001b[0;32m/tmp/ipykernel_78338/3771084958.py\u001b[0m in \u001b[0;36m<module>\u001b[0;34m\u001b[0m\n\u001b[1;32m      8\u001b[0m \u001b[0;34m\u001b[0m\u001b[0m\n\u001b[1;32m      9\u001b[0m \u001b[0mrobot_file\u001b[0m\u001b[0;34m=\u001b[0m\u001b[0;34m\"cat.txt\"\u001b[0m\u001b[0;34m\u001b[0m\u001b[0;34m\u001b[0m\u001b[0m\n\u001b[0;32m---> 10\u001b[0;31m \u001b[0mf\u001b[0m\u001b[0;34m=\u001b[0m \u001b[0mopen\u001b[0m\u001b[0;34m(\u001b[0m\u001b[0mrobot_file\u001b[0m\u001b[0;34m)\u001b[0m\u001b[0;34m\u001b[0m\u001b[0;34m\u001b[0m\u001b[0m\n\u001b[0m\u001b[1;32m     11\u001b[0m \u001b[0mBODY\u001b[0m\u001b[0;34m=\u001b[0m\u001b[0mnp\u001b[0m\u001b[0;34m.\u001b[0m\u001b[0mloadtxt\u001b[0m\u001b[0;34m(\u001b[0m\u001b[0mrobot_file\u001b[0m\u001b[0;34m)\u001b[0m\u001b[0;34m\u001b[0m\u001b[0;34m\u001b[0m\u001b[0m\n\u001b[1;32m     12\u001b[0m \u001b[0mtype\u001b[0m\u001b[0;34m(\u001b[0m\u001b[0mBODY\u001b[0m\u001b[0;34m)\u001b[0m\u001b[0;34m\u001b[0m\u001b[0;34m\u001b[0m\u001b[0m\n",
      "\u001b[0;31mFileNotFoundError\u001b[0m: [Errno 2] No such file or directory: 'cat.txt'"
     ]
    }
   ],
   "source": [
    "import pprint\n",
    "import numpy as np\n",
    "import sys\n",
    "# sys.path.append(f'{\"/home/hide0501/anaconda3/envs/evogym\"}')\n",
    "pprint.pprint(sys.path)\n",
    "\n",
    "from evogym import get_full_connectivity\n",
    "\n",
    "robot_file=\"cat.txt\"\n",
    "f= open(robot_file)\n",
    "BODY=np.loadtxt(robot_file)\n",
    "type(BODY)\n"
   ]
  }
 ],
 "metadata": {
  "kernelspec": {
   "display_name": "evogym",
   "language": "python",
   "name": "python3"
  },
  "language_info": {
   "codemirror_mode": {
    "name": "ipython",
    "version": 3
   },
   "file_extension": ".py",
   "mimetype": "text/x-python",
   "name": "python",
   "nbconvert_exporter": "python",
   "pygments_lexer": "ipython3",
   "version": "3.7.12"
  }
 },
 "nbformat": 4,
 "nbformat_minor": 2
}
